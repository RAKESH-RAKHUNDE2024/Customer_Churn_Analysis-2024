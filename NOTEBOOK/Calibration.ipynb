{
 "cells": [
  {
   "cell_type": "code",
   "execution_count": 1,
   "id": "b0cbe707-1f2a-4395-b811-b6b547e637b4",
   "metadata": {},
   "outputs": [],
   "source": [
    "import numpy as np\n",
    "import pandas as pd \n",
    "import matplotlib.pyplot as plt \n",
    "import seaborn as sns\n",
    "from pylab import rcParams\n",
    "%matplotlib inline"
   ]
  },
  {
   "cell_type": "markdown",
   "id": "1656d4e1-9212-4ebc-931f-d046a838a393",
   "metadata": {},
   "source": [
    "##### Upload Widget Is Only Available When The Cell Has Been Executed In The Current Browser Session.Please Rerun This Cell To Enable.Saving Telco_customer_churn.csv To Telco_customer_churn (1).csv"
   ]
  },
  {
   "cell_type": "code",
   "execution_count": 2,
   "id": "356fe453-f560-41b0-bd2a-7fd4421c780c",
   "metadata": {},
   "outputs": [
    {
     "data": {
      "text/html": [
       "<div>\n",
       "<style scoped>\n",
       "    .dataframe tbody tr th:only-of-type {\n",
       "        vertical-align: middle;\n",
       "    }\n",
       "\n",
       "    .dataframe tbody tr th {\n",
       "        vertical-align: top;\n",
       "    }\n",
       "\n",
       "    .dataframe thead th {\n",
       "        text-align: right;\n",
       "    }\n",
       "</style>\n",
       "<table border=\"1\" class=\"dataframe\">\n",
       "  <thead>\n",
       "    <tr style=\"text-align: right;\">\n",
       "      <th></th>\n",
       "      <th>customerID</th>\n",
       "      <th>gender</th>\n",
       "      <th>SeniorCitizen</th>\n",
       "      <th>Partner</th>\n",
       "      <th>Dependents</th>\n",
       "      <th>tenure</th>\n",
       "      <th>PhoneService</th>\n",
       "      <th>MultipleLines</th>\n",
       "      <th>InternetService</th>\n",
       "      <th>OnlineSecurity</th>\n",
       "      <th>...</th>\n",
       "      <th>DeviceProtection</th>\n",
       "      <th>TechSupport</th>\n",
       "      <th>StreamingTV</th>\n",
       "      <th>StreamingMovies</th>\n",
       "      <th>Contract</th>\n",
       "      <th>PaperlessBilling</th>\n",
       "      <th>PaymentMethod</th>\n",
       "      <th>MonthlyCharges</th>\n",
       "      <th>TotalCharges</th>\n",
       "      <th>Churn</th>\n",
       "    </tr>\n",
       "  </thead>\n",
       "  <tbody>\n",
       "    <tr>\n",
       "      <th>0</th>\n",
       "      <td>7590-VHVEG</td>\n",
       "      <td>Female</td>\n",
       "      <td>0</td>\n",
       "      <td>Yes</td>\n",
       "      <td>No</td>\n",
       "      <td>1</td>\n",
       "      <td>No</td>\n",
       "      <td>No phone service</td>\n",
       "      <td>DSL</td>\n",
       "      <td>No</td>\n",
       "      <td>...</td>\n",
       "      <td>No</td>\n",
       "      <td>No</td>\n",
       "      <td>No</td>\n",
       "      <td>No</td>\n",
       "      <td>Month-to-month</td>\n",
       "      <td>Yes</td>\n",
       "      <td>Electronic check</td>\n",
       "      <td>29.85</td>\n",
       "      <td>29.85</td>\n",
       "      <td>No</td>\n",
       "    </tr>\n",
       "    <tr>\n",
       "      <th>1</th>\n",
       "      <td>5575-GNVDE</td>\n",
       "      <td>Male</td>\n",
       "      <td>0</td>\n",
       "      <td>No</td>\n",
       "      <td>No</td>\n",
       "      <td>34</td>\n",
       "      <td>Yes</td>\n",
       "      <td>No</td>\n",
       "      <td>DSL</td>\n",
       "      <td>Yes</td>\n",
       "      <td>...</td>\n",
       "      <td>Yes</td>\n",
       "      <td>No</td>\n",
       "      <td>No</td>\n",
       "      <td>No</td>\n",
       "      <td>One year</td>\n",
       "      <td>No</td>\n",
       "      <td>Mailed check</td>\n",
       "      <td>56.95</td>\n",
       "      <td>1889.5</td>\n",
       "      <td>No</td>\n",
       "    </tr>\n",
       "    <tr>\n",
       "      <th>2</th>\n",
       "      <td>3668-QPYBK</td>\n",
       "      <td>Male</td>\n",
       "      <td>0</td>\n",
       "      <td>No</td>\n",
       "      <td>No</td>\n",
       "      <td>2</td>\n",
       "      <td>Yes</td>\n",
       "      <td>No</td>\n",
       "      <td>DSL</td>\n",
       "      <td>Yes</td>\n",
       "      <td>...</td>\n",
       "      <td>No</td>\n",
       "      <td>No</td>\n",
       "      <td>No</td>\n",
       "      <td>No</td>\n",
       "      <td>Month-to-month</td>\n",
       "      <td>Yes</td>\n",
       "      <td>Mailed check</td>\n",
       "      <td>53.85</td>\n",
       "      <td>108.15</td>\n",
       "      <td>Yes</td>\n",
       "    </tr>\n",
       "    <tr>\n",
       "      <th>3</th>\n",
       "      <td>7795-CFOCW</td>\n",
       "      <td>Male</td>\n",
       "      <td>0</td>\n",
       "      <td>No</td>\n",
       "      <td>No</td>\n",
       "      <td>45</td>\n",
       "      <td>No</td>\n",
       "      <td>No phone service</td>\n",
       "      <td>DSL</td>\n",
       "      <td>Yes</td>\n",
       "      <td>...</td>\n",
       "      <td>Yes</td>\n",
       "      <td>Yes</td>\n",
       "      <td>No</td>\n",
       "      <td>No</td>\n",
       "      <td>One year</td>\n",
       "      <td>No</td>\n",
       "      <td>Bank transfer (automatic)</td>\n",
       "      <td>42.30</td>\n",
       "      <td>1840.75</td>\n",
       "      <td>No</td>\n",
       "    </tr>\n",
       "    <tr>\n",
       "      <th>4</th>\n",
       "      <td>9237-HQITU</td>\n",
       "      <td>Female</td>\n",
       "      <td>0</td>\n",
       "      <td>No</td>\n",
       "      <td>No</td>\n",
       "      <td>2</td>\n",
       "      <td>Yes</td>\n",
       "      <td>No</td>\n",
       "      <td>Fiber optic</td>\n",
       "      <td>No</td>\n",
       "      <td>...</td>\n",
       "      <td>No</td>\n",
       "      <td>No</td>\n",
       "      <td>No</td>\n",
       "      <td>No</td>\n",
       "      <td>Month-to-month</td>\n",
       "      <td>Yes</td>\n",
       "      <td>Electronic check</td>\n",
       "      <td>70.70</td>\n",
       "      <td>151.65</td>\n",
       "      <td>Yes</td>\n",
       "    </tr>\n",
       "  </tbody>\n",
       "</table>\n",
       "<p>5 rows × 21 columns</p>\n",
       "</div>"
      ],
      "text/plain": [
       "   customerID  gender  SeniorCitizen Partner Dependents  tenure PhoneService  \\\n",
       "0  7590-VHVEG  Female              0     Yes         No       1           No   \n",
       "1  5575-GNVDE    Male              0      No         No      34          Yes   \n",
       "2  3668-QPYBK    Male              0      No         No       2          Yes   \n",
       "3  7795-CFOCW    Male              0      No         No      45           No   \n",
       "4  9237-HQITU  Female              0      No         No       2          Yes   \n",
       "\n",
       "      MultipleLines InternetService OnlineSecurity  ... DeviceProtection  \\\n",
       "0  No phone service             DSL             No  ...               No   \n",
       "1                No             DSL            Yes  ...              Yes   \n",
       "2                No             DSL            Yes  ...               No   \n",
       "3  No phone service             DSL            Yes  ...              Yes   \n",
       "4                No     Fiber optic             No  ...               No   \n",
       "\n",
       "  TechSupport StreamingTV StreamingMovies        Contract PaperlessBilling  \\\n",
       "0          No          No              No  Month-to-month              Yes   \n",
       "1          No          No              No        One year               No   \n",
       "2          No          No              No  Month-to-month              Yes   \n",
       "3         Yes          No              No        One year               No   \n",
       "4          No          No              No  Month-to-month              Yes   \n",
       "\n",
       "               PaymentMethod MonthlyCharges  TotalCharges Churn  \n",
       "0           Electronic check          29.85         29.85    No  \n",
       "1               Mailed check          56.95        1889.5    No  \n",
       "2               Mailed check          53.85        108.15   Yes  \n",
       "3  Bank transfer (automatic)          42.30       1840.75    No  \n",
       "4           Electronic check          70.70        151.65   Yes  \n",
       "\n",
       "[5 rows x 21 columns]"
      ]
     },
     "execution_count": 2,
     "metadata": {},
     "output_type": "execute_result"
    }
   ],
   "source": [
    "# Loading The Csv With Pandas\n",
    "\n",
    "data = pd.read_csv('Telco_Customer_Churn.csv')\n",
    "data.head()"
   ]
  },
  {
   "cell_type": "code",
   "execution_count": 3,
   "id": "a51389d2-3927-48ee-84bb-37d89629e298",
   "metadata": {},
   "outputs": [
    {
     "data": {
      "text/plain": [
       "customerID           object\n",
       "gender               object\n",
       "SeniorCitizen         int64\n",
       "Partner              object\n",
       "Dependents           object\n",
       "tenure                int64\n",
       "PhoneService         object\n",
       "MultipleLines        object\n",
       "InternetService      object\n",
       "OnlineSecurity       object\n",
       "OnlineBackup         object\n",
       "DeviceProtection     object\n",
       "TechSupport          object\n",
       "StreamingTV          object\n",
       "StreamingMovies      object\n",
       "Contract             object\n",
       "PaperlessBilling     object\n",
       "PaymentMethod        object\n",
       "MonthlyCharges      float64\n",
       "TotalCharges         object\n",
       "Churn                object\n",
       "dtype: object"
      ]
     },
     "execution_count": 3,
     "metadata": {},
     "output_type": "execute_result"
    }
   ],
   "source": [
    "# Types Of Data In Dataset\n",
    "\n",
    "data.dtypes "
   ]
  },
  {
   "cell_type": "code",
   "execution_count": 4,
   "id": "e69b0f4c-8ff4-477a-8c5d-4953c4493b78",
   "metadata": {},
   "outputs": [
    {
     "name": "stdout",
     "output_type": "stream",
     "text": [
      "<class 'pandas.core.frame.DataFrame'>\n",
      "RangeIndex: 7043 entries, 0 to 7042\n",
      "Data columns (total 20 columns):\n",
      " #   Column            Non-Null Count  Dtype  \n",
      "---  ------            --------------  -----  \n",
      " 0   gender            7043 non-null   object \n",
      " 1   SeniorCitizen     7043 non-null   int64  \n",
      " 2   Partner           7043 non-null   object \n",
      " 3   Dependents        7043 non-null   object \n",
      " 4   tenure            7043 non-null   int64  \n",
      " 5   PhoneService      7043 non-null   object \n",
      " 6   MultipleLines     7043 non-null   object \n",
      " 7   InternetService   7043 non-null   object \n",
      " 8   OnlineSecurity    7043 non-null   object \n",
      " 9   OnlineBackup      7043 non-null   object \n",
      " 10  DeviceProtection  7043 non-null   object \n",
      " 11  TechSupport       7043 non-null   object \n",
      " 12  StreamingTV       7043 non-null   object \n",
      " 13  StreamingMovies   7043 non-null   object \n",
      " 14  Contract          7043 non-null   object \n",
      " 15  PaperlessBilling  7043 non-null   object \n",
      " 16  PaymentMethod     7043 non-null   object \n",
      " 17  MonthlyCharges    7043 non-null   float64\n",
      " 18  TotalCharges      7043 non-null   object \n",
      " 19  Churn             7043 non-null   object \n",
      "dtypes: float64(1), int64(2), object(17)\n",
      "memory usage: 1.1+ MB\n"
     ]
    }
   ],
   "source": [
    "# Removing Customer Ids From The Data Set The Columns Not Used In The Predictive Model.\n",
    "\n",
    "df = data.drop(\"customerID\", axis=1)\n",
    "df.info()"
   ]
  },
  {
   "cell_type": "code",
   "execution_count": 5,
   "id": "207ab545-827c-4183-badf-42902494f71a",
   "metadata": {},
   "outputs": [
    {
     "data": {
      "text/plain": [
       "gender               0\n",
       "SeniorCitizen        0\n",
       "Partner              0\n",
       "Dependents           0\n",
       "tenure               0\n",
       "PhoneService         0\n",
       "MultipleLines        0\n",
       "InternetService      0\n",
       "OnlineSecurity       0\n",
       "OnlineBackup         0\n",
       "DeviceProtection     0\n",
       "TechSupport          0\n",
       "StreamingTV          0\n",
       "StreamingMovies      0\n",
       "Contract             0\n",
       "PaperlessBilling     0\n",
       "PaymentMethod        0\n",
       "MonthlyCharges       0\n",
       "TotalCharges        11\n",
       "Churn                0\n",
       "dtype: int64"
      ]
     },
     "execution_count": 5,
     "metadata": {},
     "output_type": "execute_result"
    }
   ],
   "source": [
    "df.TotalCharges = pd.to_numeric(df.TotalCharges, errors='coerce')\n",
    "df.isnull().sum()"
   ]
  },
  {
   "cell_type": "markdown",
   "id": "72e34caf-769f-4e57-8595-d2becac19a69",
   "metadata": {},
   "source": [
    "##### From The Above Output, It Can Be Seen That, There Are 11 Missing Values For Total Charges.Replacing 11 Rows From The Data Set. Also Predictor Variable Here Is Churn. Therefore, It Is Necessary To Convert The Predictor Variable In Binary Numeric Variable.¶"
   ]
  },
  {
   "cell_type": "code",
   "execution_count": 6,
   "id": "c46b7fb6-1e99-43c6-bea9-d9636ab832f5",
   "metadata": {},
   "outputs": [
    {
     "name": "stderr",
     "output_type": "stream",
     "text": [
      "C:\\Users\\rakes\\AppData\\Local\\Temp\\ipykernel_22428\\27488963.py:3: FutureWarning: A value is trying to be set on a copy of a DataFrame or Series through chained assignment using an inplace method.\n",
      "The behavior will change in pandas 3.0. This inplace method will never work because the intermediate object on which we are setting values always behaves as a copy.\n",
      "\n",
      "For example, when doing 'df[col].method(value, inplace=True)', try using 'df.method({col: value}, inplace=True)' or df[col] = df[col].method(value) instead, to perform the operation inplace on the original object.\n",
      "\n",
      "\n",
      "  df['Churn'].replace(to_replace='Yes', value=1, inplace=True)\n",
      "C:\\Users\\rakes\\AppData\\Local\\Temp\\ipykernel_22428\\27488963.py:4: FutureWarning: A value is trying to be set on a copy of a DataFrame or Series through chained assignment using an inplace method.\n",
      "The behavior will change in pandas 3.0. This inplace method will never work because the intermediate object on which we are setting values always behaves as a copy.\n",
      "\n",
      "For example, when doing 'df[col].method(value, inplace=True)', try using 'df.method({col: value}, inplace=True)' or df[col] = df[col].method(value) instead, to perform the operation inplace on the original object.\n",
      "\n",
      "\n",
      "  df['Churn'].replace(to_replace='No',  value=0, inplace=True)\n",
      "C:\\Users\\rakes\\AppData\\Local\\Temp\\ipykernel_22428\\27488963.py:4: FutureWarning: Downcasting behavior in `replace` is deprecated and will be removed in a future version. To retain the old behavior, explicitly call `result.infer_objects(copy=False)`. To opt-in to the future behavior, set `pd.set_option('future.no_silent_downcasting', True)`\n",
      "  df['Churn'].replace(to_replace='No',  value=0, inplace=True)\n"
     ]
    },
    {
     "data": {
      "text/html": [
       "<div>\n",
       "<style scoped>\n",
       "    .dataframe tbody tr th:only-of-type {\n",
       "        vertical-align: middle;\n",
       "    }\n",
       "\n",
       "    .dataframe tbody tr th {\n",
       "        vertical-align: top;\n",
       "    }\n",
       "\n",
       "    .dataframe thead th {\n",
       "        text-align: right;\n",
       "    }\n",
       "</style>\n",
       "<table border=\"1\" class=\"dataframe\">\n",
       "  <thead>\n",
       "    <tr style=\"text-align: right;\">\n",
       "      <th></th>\n",
       "      <th>SeniorCitizen</th>\n",
       "      <th>tenure</th>\n",
       "      <th>MonthlyCharges</th>\n",
       "      <th>TotalCharges</th>\n",
       "      <th>Churn</th>\n",
       "      <th>gender_Female</th>\n",
       "      <th>gender_Male</th>\n",
       "      <th>Partner_No</th>\n",
       "      <th>Partner_Yes</th>\n",
       "      <th>Dependents_No</th>\n",
       "      <th>...</th>\n",
       "      <th>StreamingMovies_Yes</th>\n",
       "      <th>Contract_Month-to-month</th>\n",
       "      <th>Contract_One year</th>\n",
       "      <th>Contract_Two year</th>\n",
       "      <th>PaperlessBilling_No</th>\n",
       "      <th>PaperlessBilling_Yes</th>\n",
       "      <th>PaymentMethod_Bank transfer (automatic)</th>\n",
       "      <th>PaymentMethod_Credit card (automatic)</th>\n",
       "      <th>PaymentMethod_Electronic check</th>\n",
       "      <th>PaymentMethod_Mailed check</th>\n",
       "    </tr>\n",
       "  </thead>\n",
       "  <tbody>\n",
       "    <tr>\n",
       "      <th>0</th>\n",
       "      <td>0</td>\n",
       "      <td>1</td>\n",
       "      <td>29.85</td>\n",
       "      <td>29.85</td>\n",
       "      <td>0</td>\n",
       "      <td>True</td>\n",
       "      <td>False</td>\n",
       "      <td>False</td>\n",
       "      <td>True</td>\n",
       "      <td>True</td>\n",
       "      <td>...</td>\n",
       "      <td>False</td>\n",
       "      <td>True</td>\n",
       "      <td>False</td>\n",
       "      <td>False</td>\n",
       "      <td>False</td>\n",
       "      <td>True</td>\n",
       "      <td>False</td>\n",
       "      <td>False</td>\n",
       "      <td>True</td>\n",
       "      <td>False</td>\n",
       "    </tr>\n",
       "    <tr>\n",
       "      <th>1</th>\n",
       "      <td>0</td>\n",
       "      <td>34</td>\n",
       "      <td>56.95</td>\n",
       "      <td>1889.50</td>\n",
       "      <td>0</td>\n",
       "      <td>False</td>\n",
       "      <td>True</td>\n",
       "      <td>True</td>\n",
       "      <td>False</td>\n",
       "      <td>True</td>\n",
       "      <td>...</td>\n",
       "      <td>False</td>\n",
       "      <td>False</td>\n",
       "      <td>True</td>\n",
       "      <td>False</td>\n",
       "      <td>True</td>\n",
       "      <td>False</td>\n",
       "      <td>False</td>\n",
       "      <td>False</td>\n",
       "      <td>False</td>\n",
       "      <td>True</td>\n",
       "    </tr>\n",
       "    <tr>\n",
       "      <th>2</th>\n",
       "      <td>0</td>\n",
       "      <td>2</td>\n",
       "      <td>53.85</td>\n",
       "      <td>108.15</td>\n",
       "      <td>1</td>\n",
       "      <td>False</td>\n",
       "      <td>True</td>\n",
       "      <td>True</td>\n",
       "      <td>False</td>\n",
       "      <td>True</td>\n",
       "      <td>...</td>\n",
       "      <td>False</td>\n",
       "      <td>True</td>\n",
       "      <td>False</td>\n",
       "      <td>False</td>\n",
       "      <td>False</td>\n",
       "      <td>True</td>\n",
       "      <td>False</td>\n",
       "      <td>False</td>\n",
       "      <td>False</td>\n",
       "      <td>True</td>\n",
       "    </tr>\n",
       "    <tr>\n",
       "      <th>3</th>\n",
       "      <td>0</td>\n",
       "      <td>45</td>\n",
       "      <td>42.30</td>\n",
       "      <td>1840.75</td>\n",
       "      <td>0</td>\n",
       "      <td>False</td>\n",
       "      <td>True</td>\n",
       "      <td>True</td>\n",
       "      <td>False</td>\n",
       "      <td>True</td>\n",
       "      <td>...</td>\n",
       "      <td>False</td>\n",
       "      <td>False</td>\n",
       "      <td>True</td>\n",
       "      <td>False</td>\n",
       "      <td>True</td>\n",
       "      <td>False</td>\n",
       "      <td>True</td>\n",
       "      <td>False</td>\n",
       "      <td>False</td>\n",
       "      <td>False</td>\n",
       "    </tr>\n",
       "    <tr>\n",
       "      <th>4</th>\n",
       "      <td>0</td>\n",
       "      <td>2</td>\n",
       "      <td>70.70</td>\n",
       "      <td>151.65</td>\n",
       "      <td>1</td>\n",
       "      <td>True</td>\n",
       "      <td>False</td>\n",
       "      <td>True</td>\n",
       "      <td>False</td>\n",
       "      <td>True</td>\n",
       "      <td>...</td>\n",
       "      <td>False</td>\n",
       "      <td>True</td>\n",
       "      <td>False</td>\n",
       "      <td>False</td>\n",
       "      <td>False</td>\n",
       "      <td>True</td>\n",
       "      <td>False</td>\n",
       "      <td>False</td>\n",
       "      <td>True</td>\n",
       "      <td>False</td>\n",
       "    </tr>\n",
       "  </tbody>\n",
       "</table>\n",
       "<p>5 rows × 46 columns</p>\n",
       "</div>"
      ],
      "text/plain": [
       "   SeniorCitizen  tenure  MonthlyCharges  TotalCharges  Churn  gender_Female  \\\n",
       "0              0       1           29.85         29.85      0           True   \n",
       "1              0      34           56.95       1889.50      0          False   \n",
       "2              0       2           53.85        108.15      1          False   \n",
       "3              0      45           42.30       1840.75      0          False   \n",
       "4              0       2           70.70        151.65      1           True   \n",
       "\n",
       "   gender_Male  Partner_No  Partner_Yes  Dependents_No  ...  \\\n",
       "0        False       False         True           True  ...   \n",
       "1         True        True        False           True  ...   \n",
       "2         True        True        False           True  ...   \n",
       "3         True        True        False           True  ...   \n",
       "4        False        True        False           True  ...   \n",
       "\n",
       "   StreamingMovies_Yes  Contract_Month-to-month  Contract_One year  \\\n",
       "0                False                     True              False   \n",
       "1                False                    False               True   \n",
       "2                False                     True              False   \n",
       "3                False                    False               True   \n",
       "4                False                     True              False   \n",
       "\n",
       "   Contract_Two year  PaperlessBilling_No  PaperlessBilling_Yes  \\\n",
       "0              False                False                  True   \n",
       "1              False                 True                 False   \n",
       "2              False                False                  True   \n",
       "3              False                 True                 False   \n",
       "4              False                False                  True   \n",
       "\n",
       "   PaymentMethod_Bank transfer (automatic)  \\\n",
       "0                                    False   \n",
       "1                                    False   \n",
       "2                                    False   \n",
       "3                                     True   \n",
       "4                                    False   \n",
       "\n",
       "   PaymentMethod_Credit card (automatic)  PaymentMethod_Electronic check  \\\n",
       "0                                  False                            True   \n",
       "1                                  False                           False   \n",
       "2                                  False                           False   \n",
       "3                                  False                           False   \n",
       "4                                  False                            True   \n",
       "\n",
       "   PaymentMethod_Mailed check  \n",
       "0                       False  \n",
       "1                        True  \n",
       "2                        True  \n",
       "3                       False  \n",
       "4                       False  \n",
       "\n",
       "[5 rows x 46 columns]"
      ]
     },
     "execution_count": 6,
     "metadata": {},
     "output_type": "execute_result"
    }
   ],
   "source": [
    "df.dropna(inplace = True)\n",
    "\n",
    "df['Churn'].replace(to_replace='Yes', value=1, inplace=True)\n",
    "df['Churn'].replace(to_replace='No',  value=0, inplace=True)\n",
    "\n",
    "# Converting All The Categorical Variables Into Dummy Variables\n",
    "df_dummies = pd.get_dummies(df)\n",
    "df_dummies.head()"
   ]
  },
  {
   "cell_type": "code",
   "execution_count": 7,
   "id": "518fdcde-db1c-45fa-9ece-37239f7b2a9f",
   "metadata": {},
   "outputs": [
    {
     "name": "stdout",
     "output_type": "stream",
     "text": [
      "<class 'pandas.core.frame.DataFrame'>\n",
      "Index: 7032 entries, 0 to 7042\n",
      "Data columns (total 46 columns):\n",
      " #   Column                                   Non-Null Count  Dtype  \n",
      "---  ------                                   --------------  -----  \n",
      " 0   SeniorCitizen                            7032 non-null   int64  \n",
      " 1   tenure                                   7032 non-null   int64  \n",
      " 2   MonthlyCharges                           7032 non-null   float64\n",
      " 3   TotalCharges                             7032 non-null   float64\n",
      " 4   Churn                                    7032 non-null   int64  \n",
      " 5   gender_Female                            7032 non-null   bool   \n",
      " 6   gender_Male                              7032 non-null   bool   \n",
      " 7   Partner_No                               7032 non-null   bool   \n",
      " 8   Partner_Yes                              7032 non-null   bool   \n",
      " 9   Dependents_No                            7032 non-null   bool   \n",
      " 10  Dependents_Yes                           7032 non-null   bool   \n",
      " 11  PhoneService_No                          7032 non-null   bool   \n",
      " 12  PhoneService_Yes                         7032 non-null   bool   \n",
      " 13  MultipleLines_No                         7032 non-null   bool   \n",
      " 14  MultipleLines_No phone service           7032 non-null   bool   \n",
      " 15  MultipleLines_Yes                        7032 non-null   bool   \n",
      " 16  InternetService_DSL                      7032 non-null   bool   \n",
      " 17  InternetService_Fiber optic              7032 non-null   bool   \n",
      " 18  InternetService_No                       7032 non-null   bool   \n",
      " 19  OnlineSecurity_No                        7032 non-null   bool   \n",
      " 20  OnlineSecurity_No internet service       7032 non-null   bool   \n",
      " 21  OnlineSecurity_Yes                       7032 non-null   bool   \n",
      " 22  OnlineBackup_No                          7032 non-null   bool   \n",
      " 23  OnlineBackup_No internet service         7032 non-null   bool   \n",
      " 24  OnlineBackup_Yes                         7032 non-null   bool   \n",
      " 25  DeviceProtection_No                      7032 non-null   bool   \n",
      " 26  DeviceProtection_No internet service     7032 non-null   bool   \n",
      " 27  DeviceProtection_Yes                     7032 non-null   bool   \n",
      " 28  TechSupport_No                           7032 non-null   bool   \n",
      " 29  TechSupport_No internet service          7032 non-null   bool   \n",
      " 30  TechSupport_Yes                          7032 non-null   bool   \n",
      " 31  StreamingTV_No                           7032 non-null   bool   \n",
      " 32  StreamingTV_No internet service          7032 non-null   bool   \n",
      " 33  StreamingTV_Yes                          7032 non-null   bool   \n",
      " 34  StreamingMovies_No                       7032 non-null   bool   \n",
      " 35  StreamingMovies_No internet service      7032 non-null   bool   \n",
      " 36  StreamingMovies_Yes                      7032 non-null   bool   \n",
      " 37  Contract_Month-to-month                  7032 non-null   bool   \n",
      " 38  Contract_One year                        7032 non-null   bool   \n",
      " 39  Contract_Two year                        7032 non-null   bool   \n",
      " 40  PaperlessBilling_No                      7032 non-null   bool   \n",
      " 41  PaperlessBilling_Yes                     7032 non-null   bool   \n",
      " 42  PaymentMethod_Bank transfer (automatic)  7032 non-null   bool   \n",
      " 43  PaymentMethod_Credit card (automatic)    7032 non-null   bool   \n",
      " 44  PaymentMethod_Electronic check           7032 non-null   bool   \n",
      " 45  PaymentMethod_Mailed check               7032 non-null   bool   \n",
      "dtypes: bool(41), float64(2), int64(3)\n",
      "memory usage: 611.2 KB\n"
     ]
    }
   ],
   "source": [
    "df_dummies.info()"
   ]
  },
  {
   "cell_type": "markdown",
   "id": "376fc992-85ce-4321-9b2f-3c1d445557f0",
   "metadata": {},
   "source": [
    "#### Predictive Modelling :-\r\n",
    "We Will Consider Several Different Models To Predict Customer Churn. To Ensure We Are Not Over-fitting To Our Data, We Will Split The 7,043 Customer Records Into A Training And Test Set, With The Test Set Being 20% Of The Total Records. It Is Important To Scale The Variables In Regression So That All Of Them Are Within A Range Of 0 To 1.\r\n",
    "\r\n",
    "Logistic Regression Requires There To Be Little Or No Multicollinearity Among The Independent Variables.\r\n",
    "\r\n",
    "Therefore, As Discussed In The Begining, Total Charges Will Be Removed."
   ]
  },
  {
   "cell_type": "code",
   "execution_count": 8,
   "id": "18b53dd8-dae4-4538-a3bd-0721d23b86cf",
   "metadata": {},
   "outputs": [],
   "source": [
    "df_dummies = df_dummies.drop(\"TotalCharges\", axis=1) # Removing Total Charges To Avoid Multicolinearity.\n",
    "\n",
    "# Using The Data Frame Where We Had Created Dummy Variables\n",
    "y = df_dummies['Churn'].values\n",
    "X = df_dummies.drop(columns = ['Churn'])\n",
    "\n",
    "# Scaling All The Variables To A Range Of 0 To 1\n",
    "from sklearn.preprocessing import MinMaxScaler\n",
    "features = X.columns.values\n",
    "scaler = MinMaxScaler(feature_range = (0,1))\n",
    "scaler.fit(X)\n",
    "X = pd.DataFrame(scaler.transform(X))\n",
    "X.columns = features"
   ]
  },
  {
   "cell_type": "markdown",
   "id": "7231b25b-12a5-4de5-8982-d280a410578f",
   "metadata": {},
   "source": [
    "#### METHODOLOGY :-\n",
    "Our First Step Was To Split Our Data Into Training And Test Sets Using Train-test-split,\n",
    "Which Would Allow Us To Cross-validate Our Results Later. We Also Stratified The Train-test-split, \n",
    "To Ensure That The Same Proportion Of Our Target Variable Was Found In Both Our Training And Test Sets.\n",
    "\n",
    "#### SPILITING THE DATA :- \n",
    "X Is The Data With The Independent Variables, Y Is The Data With The Dependent Variable. \n",
    "The Test Size Variable Determines In Which Ratio The Data Will Be Split. \n",
    "It Is Quite Common To Do This In A 80 Training / 20 Test Ratio. Also Ned To Stratify The Train-test-split To Have A Balanced Split"
   ]
  },
  {
   "cell_type": "code",
   "execution_count": 9,
   "id": "4f8d855d-e641-4eca-8257-a41f02bd64fc",
   "metadata": {},
   "outputs": [
    {
     "name": "stdout",
     "output_type": "stream",
     "text": [
      "length of X_train and x_test:  5625 1407\n",
      "length of y_train and y_test:  5625 1407\n"
     ]
    }
   ],
   "source": [
    "from sklearn.model_selection import train_test_split\n",
    "\n",
    "X_train, X_test, y_train, y_test = train_test_split(X, y, test_size=0.2, random_state=101, stratify=y)\n",
    "print('length of X_train and x_test: ', len(X_train), len(X_test))\n",
    "print('length of y_train and y_test: ', len(y_train), len(y_test))    "
   ]
  },
  {
   "cell_type": "markdown",
   "id": "df9bdfe0-cec0-49eb-bbb3-b7ddba35e3e9",
   "metadata": {},
   "source": [
    "#### LOGISTIC REGRESSION :- \n",
    "\n",
    "Using Machine Learning Algorithm And The Dependent Variable Here Churn 1 Or Churn 0 Is Categorical.\n",
    "The Trained Model Can Be Used To Predict If A Customer Churned Or Not For The Test Dataset.\n",
    "The Results Are Saved In “prediction_test” And Afterwards The Accuracy Score Is Measured And Printed."
   ]
  },
  {
   "cell_type": "code",
   "execution_count": 10,
   "id": "9c8665fa-250e-4a34-88da-d2036f4222b5",
   "metadata": {},
   "outputs": [
    {
     "data": {
      "text/plain": [
       "0.8017057569296375"
      ]
     },
     "execution_count": 10,
     "metadata": {},
     "output_type": "execute_result"
    }
   ],
   "source": [
    "from sklearn.linear_model import LogisticRegression\n",
    "from sklearn.metrics import confusion_matrix, accuracy_score\n",
    "from sklearn import metrics\n",
    "\n",
    "lr_model = LogisticRegression(solver='lbfgs').fit(X_train, y_train)\n",
    "# Result = Lr.model.fit(X_train, y_train)\n",
    "\n",
    "lr_prediction = lr_model.predict_proba(X_test)\n",
    "lr_model.score(X_test, y_test)"
   ]
  },
  {
   "cell_type": "code",
   "execution_count": 11,
   "id": "b3ce3300-f4ca-4342-a7f5-ab2fa94b820f",
   "metadata": {},
   "outputs": [
    {
     "name": "stdout",
     "output_type": "stream",
     "text": [
      "Accuracy {:0.2f}% 82.24431818181819\n"
     ]
    }
   ],
   "source": [
    "# ACCURACY :-\n",
    "\n",
    "Accuracy = (502+77)*100/(502+55+70+77)\n",
    "print(\"Accuracy {:0.2f}%\",format(Accuracy))"
   ]
  },
  {
   "cell_type": "markdown",
   "id": "f402c7ae-6c9f-4208-b318-83f10d19079d",
   "metadata": {},
   "source": [
    "##### The Classifier Is Predicting A 1 (Having A Possibility Of Churn) Any Time The Probability In The Second Column Is Greater Than 0.5. The Positive Class Probability Is Returned By The Models In The Second Column (Index=1):"
   ]
  },
  {
   "cell_type": "code",
   "execution_count": 12,
   "id": "22769e46-0e25-4b60-9e41-cb023d35b96a",
   "metadata": {},
   "outputs": [
    {
     "data": {
      "text/plain": [
       "array([[0.60279219, 0.39720781],\n",
       "       [0.98805339, 0.01194661],\n",
       "       [0.98913583, 0.01086417],\n",
       "       [0.84676136, 0.15323864],\n",
       "       [0.73963885, 0.26036115]])"
      ]
     },
     "execution_count": 12,
     "metadata": {},
     "output_type": "execute_result"
    }
   ],
   "source": [
    "lr_prediction[:5]"
   ]
  },
  {
   "cell_type": "markdown",
   "id": "9e1373fb-bae8-4563-bdc9-e2d9b08b3a9c",
   "metadata": {},
   "source": [
    "##### Now Let’s Generate Some Evaluation Metrics."
   ]
  },
  {
   "cell_type": "code",
   "execution_count": 13,
   "id": "9dcd92f2-2763-4fc2-8994-dcc127d34e6f",
   "metadata": {},
   "outputs": [
    {
     "name": "stdout",
     "output_type": "stream",
     "text": [
      "Prdiction: 0.8017057569296375\n",
      "Precision: 0.6655052264808362\n",
      "Recall: 0.5106951871657754\n"
     ]
    }
   ],
   "source": [
    "lr_pred = lr_model.predict(X_test)\n",
    "# lr_pred = prediction_test # Prediction\n",
    "\n",
    "# Print The Prediction Accuracy\n",
    "print (\"Prdiction:\",metrics.accuracy_score(y_test, lr_pred))\n",
    "\n",
    "# Model Precision\n",
    "print(\"Precision:\",metrics.precision_score(y_test, lr_pred))\n",
    "\n",
    "# Model Recall\n",
    "print(\"Recall:\",metrics.recall_score(y_test, lr_pred))"
   ]
  },
  {
   "cell_type": "code",
   "execution_count": 14,
   "id": "55884344-f938-453c-92ad-d01be3cce2f7",
   "metadata": {},
   "outputs": [
    {
     "name": "stdout",
     "output_type": "stream",
     "text": [
      "0.8408094382697195\n"
     ]
    }
   ],
   "source": [
    "from sklearn.metrics import roc_auc_score\n",
    "print (metrics.roc_auc_score(y_test, lr_prediction[:, 1]))"
   ]
  },
  {
   "cell_type": "code",
   "execution_count": 15,
   "id": "d6f8f31f-9aae-411a-9042-db2eb5b2ff9b",
   "metadata": {},
   "outputs": [
    {
     "data": {
      "text/plain": [
       "[(1, -0.41711290560383363),\n",
       " (0, -4.415289273862642),\n",
       " (0, -4.511361590267521),\n",
       " (0, -1.7094224424997204),\n",
       " (1, -1.0440923391335424),\n",
       " (0, -0.18628990431257053),\n",
       " (0, -2.863584039981707),\n",
       " (0, -2.2366622671051744),\n",
       " (0, -4.416933336827468),\n",
       " (0, -0.7450920483299148),\n",
       " (1, -1.6034017700207923),\n",
       " (1, 0.28218159294237455),\n",
       " (0, -2.9513351717604754),\n",
       " (1, 1.1004655953470004),\n",
       " (0, -3.7891952259640878),\n",
       " (0, -5.349540254805008),\n",
       " (0, 0.8149567535580051),\n",
       " (1, 0.3558686708865655),\n",
       " (0, -0.12006557899279124),\n",
       " (0, -2.898945415060453)]"
      ]
     },
     "execution_count": 15,
     "metadata": {},
     "output_type": "execute_result"
    }
   ],
   "source": [
    "# Compute The Decision Scores\n",
    "y_scores_lr = lr_model.decision_function(X_test)\n",
    "y_score_list = list(zip(y_test[0:20], y_scores_lr[0:20]))\n",
    "\n",
    "# Show The Decision_Function Scores For First 20 Instances \n",
    "y_score_list"
   ]
  },
  {
   "cell_type": "code",
   "execution_count": null,
   "id": "615555fc-23dd-47a4-9512-a8b0f0f8d0ca",
   "metadata": {},
   "outputs": [],
   "source": []
  },
  {
   "cell_type": "code",
   "execution_count": 25,
   "id": "f0653754-9ff7-443d-9857-ec4b75834f00",
   "metadata": {},
   "outputs": [
    {
     "data": {
      "image/png": "[encoded data removed]",
      "text/plain": [
       "<Figure size 640x480 with 2 Axes>"
      ]
     },
     "metadata": {},
     "output_type": "display_data"
    }
   ],
   "source": [
    "precision, recall, thresholds = precision_recall_curve(y_test, y_scores_lr)\n",
    "closest_zero = np.argmin(np.abs(thresholds))\n",
    "closest_zero_p = precision[closest_zero]\n",
    "closest_zero_r = recall[closest_zero]\n",
    "#Plot\n",
    "plt.figure()\n",
    "plt.xlim([0.0, 1.01])\n",
    "plt.ylim([0.0, 1.01])\n",
    "plt.plot(precision, recall, label='Precision-Recall Curve')\n",
    "plt.plot(closest_zero_p, closest_zero_r, 'o', markersize = 12, fillstyle = 'none', c='r', mew=3)\n",
    "plt.xlabel('Precision', fontsize=16)\n",
    "plt.ylabel('Recall', fontsize=16)\n",
    "plt.axes().set_aspect('equal')"
   ]
  },
  {
   "cell_type": "code",
   "execution_count": 26,
   "id": "d36140e3-6a92-4729-b640-4305f99b297a",
   "metadata": {},
   "outputs": [
    {
     "data": {
      "text/plain": [
       "<Axes: >"
      ]
     },
     "execution_count": 26,
     "metadata": {},
     "output_type": "execute_result"
    },
    {
     "data": {
      "image/png": "[encoded data removed]",
      "text/plain": [
       "<Figure size 640x480 with 2 Axes>"
      ]
     },
     "metadata": {},
     "output_type": "display_data"
    }
   ],
   "source": [
    "from sklearn.metrics import roc_curve, auc\n",
    "\n",
    "# Compute And Plot The ROC\n",
    "y_score_lr = lr_model.decision_function(X_test)\n",
    "fpr_lr, tpr_lr, _ = roc_curve(y_test, y_score_lr)\n",
    "roc_auc_lr = auc(fpr_lr, tpr_lr)\n",
    "\n",
    "plt.figure()\n",
    "plt.xlim([-0.01, 1.00])\n",
    "plt.ylim([-0.01, 1.01])\n",
    "plt.plot(fpr_lr, tpr_lr, lw=3, label='LogRegr ROC curve (area = {:0.2f})'.format(roc_auc_lr))\n",
    "plt.xlabel('False Positive Rate', fontsize=16)\n",
    "plt.ylabel('True Positive Rate', fontsize=16)\n",
    "plt.title('ROC curve (1-of-10 digits classifier)', fontsize=16)\n",
    "plt.legend(loc='lower right', fontsize=13)\n",
    "plt.plot([0, 1], [0, 1], color='navy', lw=3, linestyle='--')\n",
    "plt.axes()"
   ]
  },
  {
   "cell_type": "code",
   "execution_count": 27,
   "id": "4b87008b-4ceb-4c9b-999f-d87b0cbb8eac",
   "metadata": {},
   "outputs": [
    {
     "data": {
      "image/png": "[encoded data removed]",
      "text/plain": [
       "<Figure size 1000x600 with 1 Axes>"
      ]
     },
     "metadata": {},
     "output_type": "display_data"
    }
   ],
   "source": [
    "\n",
    "from sklearn.metrics import precision_recall_curve\n",
    "y_scores=lr_prediction\n",
    "prec, rec, tre = precision_recall_curve(y_test, y_scores[:,1], )\n",
    "\n",
    "def plot_prec_recall_vs_tresh(precisions, recalls, thresholds):\n",
    "    fig, ax = plt.subplots(figsize=(10,6))\n",
    "    plt.plot(thresholds, precisions[:-1], \"r--\", label=\"Precisions\")\n",
    "    plt.plot(thresholds, recalls[:-1], \"#424242\", label=\"Recalls\")\n",
    "    plt.ylabel(\"Level of Precision and Recall\", fontsize=12)\n",
    "    plt.title(\"Precision and Recall Scores as a function of the decision threshold\", fontsize=12)\n",
    "    plt.xlabel('Thresholds', fontsize=12)\n",
    "    plt.legend(loc=\"best\", fontsize=12)\n",
    "    plt.ylim([0,1])\n",
    "    plt.axvline(x=0.47, linewidth=3, color=\"#0B3861\")\n",
    "    \n",
    "plot_prec_recall_vs_tresh(prec, rec, tre)\n",
    "plt.show()"
   ]
  },
  {
   "cell_type": "code",
   "execution_count": 28,
   "id": "8572fa09-6eeb-416e-b20e-7665206e95ca",
   "metadata": {},
   "outputs": [
    {
     "name": "stdout",
     "output_type": "stream",
     "text": [
      "Average precision-recall score: 0.66\n"
     ]
    }
   ],
   "source": [
    "from sklearn.metrics import average_precision_score\n",
    "average_precision = average_precision_score(y_test, y_scores[:,1])\n",
    "\n",
    "print('Average precision-recall score: {0:0.2f}'.format(\n",
    "      average_precision))"
   ]
  },
  {
   "cell_type": "code",
   "execution_count": 29,
   "id": "f3a9a980-3c9a-4c78-bcb4-ca6274861dcd",
   "metadata": {},
   "outputs": [
    {
     "name": "stdout",
     "output_type": "stream",
     "text": [
      "Requirement already satisfied: scikit-plot in c:\\users\\rakes\\anaconda3\\lib\\site-packages (0.3.7)\n",
      "Requirement already satisfied: matplotlib>=1.4.0 in c:\\users\\rakes\\anaconda3\\lib\\site-packages (from scikit-plot) (3.8.0)\n",
      "Requirement already satisfied: scikit-learn>=0.18 in c:\\users\\rakes\\anaconda3\\lib\\site-packages (from scikit-plot) (1.2.2)\n",
      "Requirement already satisfied: scipy>=0.9 in c:\\users\\rakes\\anaconda3\\lib\\site-packages (from scikit-plot) (1.11.4)\n",
      "Requirement already satisfied: joblib>=0.10 in c:\\users\\rakes\\anaconda3\\lib\\site-packages (from scikit-plot) (1.2.0)\n",
      "Requirement already satisfied: contourpy>=1.0.1 in c:\\users\\rakes\\anaconda3\\lib\\site-packages (from matplotlib>=1.4.0->scikit-plot) (1.2.0)\n",
      "Requirement already satisfied: cycler>=0.10 in c:\\users\\rakes\\anaconda3\\lib\\site-packages (from matplotlib>=1.4.0->scikit-plot) (0.11.0)\n",
      "Requirement already satisfied: fonttools>=4.22.0 in c:\\users\\rakes\\anaconda3\\lib\\site-packages (from matplotlib>=1.4.0->scikit-plot) (4.25.0)\n",
      "Requirement already satisfied: kiwisolver>=1.0.1 in c:\\users\\rakes\\anaconda3\\lib\\site-packages (from matplotlib>=1.4.0->scikit-plot) (1.4.4)\n",
      "Requirement already satisfied: numpy<2,>=1.21 in c:\\users\\rakes\\anaconda3\\lib\\site-packages (from matplotlib>=1.4.0->scikit-plot) (1.26.4)\n",
      "Requirement already satisfied: packaging>=20.0 in c:\\users\\rakes\\anaconda3\\lib\\site-packages (from matplotlib>=1.4.0->scikit-plot) (23.1)\n",
      "Requirement already satisfied: pillow>=6.2.0 in c:\\users\\rakes\\anaconda3\\lib\\site-packages (from matplotlib>=1.4.0->scikit-plot) (10.2.0)\n",
      "Requirement already satisfied: pyparsing>=2.3.1 in c:\\users\\rakes\\anaconda3\\lib\\site-packages (from matplotlib>=1.4.0->scikit-plot) (3.0.9)\n",
      "Requirement already satisfied: python-dateutil>=2.7 in c:\\users\\rakes\\anaconda3\\lib\\site-packages (from matplotlib>=1.4.0->scikit-plot) (2.8.2)\n",
      "Requirement already satisfied: threadpoolctl>=2.0.0 in c:\\users\\rakes\\anaconda3\\lib\\site-packages (from scikit-learn>=0.18->scikit-plot) (2.2.0)\n",
      "Requirement already satisfied: six>=1.5 in c:\\users\\rakes\\anaconda3\\lib\\site-packages (from python-dateutil>=2.7->matplotlib>=1.4.0->scikit-plot) (1.16.0)\n",
      "Note: you may need to restart the kernel to use updated packages.\n"
     ]
    }
   ],
   "source": [
    "pip install scikit-plot"
   ]
  },
  {
   "cell_type": "code",
   "execution_count": null,
   "id": "56af7710-41f0-4066-9edd-7c0d8b95b3d5",
   "metadata": {},
   "outputs": [],
   "source": []
  },
  {
   "cell_type": "code",
   "execution_count": 30,
   "id": "672455c3-5eec-4d0a-8b55-c45d8d396e46",
   "metadata": {},
   "outputs": [
    {
     "data": {
      "text/plain": [
       "<Axes: title={'center': 'ROC Curves'}, xlabel='False Positive Rate', ylabel='True Positive Rate'>"
      ]
     },
     "execution_count": 30,
     "metadata": {},
     "output_type": "execute_result"
    },
    {
     "data": {
      "image/png": "[encoded data removed]",
      "text/plain": [
       "<Figure size 640x480 with 1 Axes>"
      ]
     },
     "metadata": {},
     "output_type": "display_data"
    }
   ],
   "source": [
    "# To Make Things Easy\n",
    "\n",
    "import scikitplot as skplt \n",
    "\n",
    "skplt.metrics.plot_roc(y_test, lr_prediction)"
   ]
  },
  {
   "cell_type": "code",
   "execution_count": null,
   "id": "e1b16160-167b-4524-b6e4-e72b7b347ab6",
   "metadata": {},
   "outputs": [],
   "source": []
  },
  {
   "cell_type": "code",
   "execution_count": 31,
   "id": "df2c7e92-44ba-4c59-9ec7-46c12cbc6050",
   "metadata": {},
   "outputs": [
    {
     "name": "stdout",
     "output_type": "stream",
     "text": [
      "Confusion matrix\n",
      "[[937  96]\n",
      " [183 191]]\n"
     ]
    },
    {
     "data": {
      "image/png": "[encoded data removed]",
      "text/plain": [
       "<Figure size 640x480 with 2 Axes>"
      ]
     },
     "metadata": {},
     "output_type": "display_data"
    }
   ],
   "source": [
    "import itertools\n",
    "\n",
    "# Evaluation Of Model - Confusion Matrix Plot\n",
    "def plot_confusion_matrix(cm, classes, title ='Confusion matrix', normalize = False, cmap = plt.cm.Blues):\n",
    "    \"\"\"\n",
    "    This function prints and plots the confusion matrix.\n",
    "    Normalization can be applied by setting `normalize=True`.\n",
    "    \"\"\"\n",
    "    if normalize:\n",
    "        cm = cm.astype('float') / cm.sum(axis=1)[:, np.newaxis]\n",
    "        print(\"Normalized confusion matrix\")\n",
    "    else:\n",
    "        print('Confusion matrix')\n",
    "\n",
    "    print(cm)\n",
    "\n",
    "    plt.imshow(cm, interpolation='nearest', cmap=cmap)\n",
    "    plt.title(title)\n",
    "    plt.colorbar()\n",
    "    tick_marks = np.arange(len(classes))\n",
    "    plt.xticks(tick_marks, classes)\n",
    "    plt.yticks(tick_marks, classes)\n",
    "\n",
    "    fmt = '.2f' if normalize else 'd'\n",
    "    thresh = cm.max() / 2.\n",
    "    for i, j in itertools.product(range(cm.shape[0]), range(cm.shape[1])):\n",
    "        plt.text(j, i, format(cm[i, j], fmt),\n",
    "                 horizontalalignment=\"center\",\n",
    "                 color=\"white\" if cm[i, j] > thresh else \"black\")\n",
    "\n",
    "    plt.ylabel('True label')\n",
    "    plt.xlabel('Predicted label')\n",
    "    plt.tight_layout()\n",
    "\n",
    "\n",
    "# Compute Confusion Matrix\n",
    "cnf_matrix = confusion_matrix(y_test, lr_pred)\n",
    "np.set_printoptions(precision=2)\n",
    "\n",
    "# Plot Non-Normalized Confusion Matrix\n",
    "plt.figure()\n",
    "plot_confusion_matrix(cnf_matrix, classes=['No Churn','Churn'],\n",
    "                      title='Confusion matrix, with normalized data')"
   ]
  },
  {
   "cell_type": "code",
   "execution_count": null,
   "id": "e9bcf3d7-f7a9-4640-8116-736abc114918",
   "metadata": {},
   "outputs": [],
   "source": []
  },
  {
   "cell_type": "code",
   "execution_count": 32,
   "id": "50eb6723-6286-4965-b88d-20599018425e",
   "metadata": {},
   "outputs": [
    {
     "name": "stdout",
     "output_type": "stream",
     "text": [
      "F1 Score 0.55\n"
     ]
    }
   ],
   "source": [
    "# F1 = 2 * ( Precision * Recall) / ( Precision + Recall)\n",
    "f1 = 2*(0.5833*0.5238)/(0.5833 + 0.5238)\n",
    "print(\"F1 Score {:0.2f}\".format(f1))"
   ]
  },
  {
   "cell_type": "code",
   "execution_count": 33,
   "id": "1e3b70d1-1838-4903-b43e-47c45384ca07",
   "metadata": {},
   "outputs": [
    {
     "name": "stdout",
     "output_type": "stream",
     "text": [
      "              precision    recall  f1-score   support\n",
      "\n",
      "           0       0.84      0.91      0.87      1033\n",
      "           1       0.67      0.51      0.58       374\n",
      "\n",
      "    accuracy                           0.80      1407\n",
      "   macro avg       0.75      0.71      0.72      1407\n",
      "weighted avg       0.79      0.80      0.79      1407\n",
      "\n"
     ]
    }
   ],
   "source": [
    "from sklearn.metrics import classification_report\n",
    "print(classification_report(y_test, lr_pred))"
   ]
  },
  {
   "cell_type": "markdown",
   "id": "9bf2fc80-550c-41ea-badb-f94186630fa7",
   "metadata": {},
   "source": [
    "##### Similarly, Train A Random Forest Model And Predict On The Validation Set."
   ]
  },
  {
   "cell_type": "code",
   "execution_count": null,
   "id": "4ea9e154-8845-425c-93f1-da737a1a8782",
   "metadata": {},
   "outputs": [],
   "source": []
  },
  {
   "cell_type": "code",
   "execution_count": 34,
   "id": "1cc4cd0e-56f2-4a80-ba0c-cdc4506bf205",
   "metadata": {},
   "outputs": [
    {
     "data": {
      "text/plain": [
       "0.7953091684434968"
      ]
     },
     "execution_count": 34,
     "metadata": {},
     "output_type": "execute_result"
    }
   ],
   "source": [
    "from sklearn.ensemble import RandomForestClassifier\n",
    "rf_model = RandomForestClassifier(random_state=101, n_estimators=100).fit(X_train, y_train)\n",
    "rf_prediction = rf_model.predict_proba(X_test)\n",
    "rf_model.score(X_test, y_test)\n",
    "# rf_pred = Prediction_Test # Prediction"
   ]
  },
  {
   "cell_type": "code",
   "execution_count": null,
   "id": "76ad1f94-4704-4821-b825-0aef8b3a4a61",
   "metadata": {},
   "outputs": [],
   "source": []
  },
  {
   "cell_type": "code",
   "execution_count": 35,
   "id": "ea777855-8ec4-4e6a-97e0-4aad917b0893",
   "metadata": {},
   "outputs": [],
   "source": [
    "rfpred_test = rf_model.predict(X_test)"
   ]
  },
  {
   "cell_type": "code",
   "execution_count": null,
   "id": "b97593db-435c-4502-8b4a-ac8492136298",
   "metadata": {},
   "outputs": [],
   "source": []
  },
  {
   "cell_type": "code",
   "execution_count": 36,
   "id": "f99c9292-23e2-4975-8091-70b1c19478ae",
   "metadata": {},
   "outputs": [
    {
     "name": "stdout",
     "output_type": "stream",
     "text": [
      "              precision    recall  f1-score   support\n",
      "\n",
      "           0       0.83      0.90      0.87      1033\n",
      "           1       0.65      0.49      0.56       374\n",
      "\n",
      "    accuracy                           0.80      1407\n",
      "   macro avg       0.74      0.70      0.71      1407\n",
      "weighted avg       0.78      0.80      0.79      1407\n",
      "\n"
     ]
    }
   ],
   "source": [
    "print(classification_report(y_test, rfpred_test))"
   ]
  },
  {
   "cell_type": "code",
   "execution_count": null,
   "id": "b3a8e1f6-d90e-4f0d-8877-5b758e2cd89c",
   "metadata": {},
   "outputs": [],
   "source": []
  },
  {
   "cell_type": "markdown",
   "id": "040e1465-18fb-47f2-9434-dc1c569674e0",
   "metadata": {},
   "source": [
    "### Calibration Plot:-\n",
    "Once I have the class probabilities and labels, I can compute the bins for a calibration plot. Here I use sklearn.calibration.calibration_curve that returns the (x,y) coordinates of the bins on the calibration plot."
   ]
  },
  {
   "cell_type": "code",
   "execution_count": 37,
   "id": "019ada30-52ea-41a1-9bd3-9572b18614f5",
   "metadata": {},
   "outputs": [],
   "source": [
    "from sklearn.calibration import calibration_curve\n",
    "lr_y, lr_x = calibration_curve(y_test, lr_prediction[:,1], n_bins=20)"
   ]
  },
  {
   "cell_type": "markdown",
   "id": "5834e416-58af-4be4-938d-31a8601fe0b9",
   "metadata": {},
   "source": [
    "##### Note That Although I Asked For 20 Bins For Logistic Regression, 2 Bins Out Of 20 Don’t Have Any Data. The Reason Is A Combination Of That Logistic Regresion Being A Simple Model, That There Are Only Two Features, And That I Have 704 Points Of Data In The Validation Set."
   ]
  },
  {
   "cell_type": "code",
   "execution_count": null,
   "id": "e7730669-ced7-435f-9319-7e507c687087",
   "metadata": {},
   "outputs": [],
   "source": []
  },
  {
   "cell_type": "code",
   "execution_count": 38,
   "id": "bbd29f34-83e2-4895-9d63-a81654d7d346",
   "metadata": {},
   "outputs": [
    {
     "data": {
      "text/plain": [
       "[array([0.02, 0.11, 0.12, 0.21, 0.25, 0.3 , 0.36, 0.44, 0.39, 0.35, 0.42,\n",
       "        0.61, 0.55, 0.75, 0.74, 0.94, 0.75, 1.  ]),\n",
       " array([0.02, 0.07, 0.12, 0.18, 0.23, 0.27, 0.32, 0.38, 0.43, 0.47, 0.52,\n",
       "        0.58, 0.63, 0.67, 0.73, 0.77, 0.81, 0.86])]"
      ]
     },
     "execution_count": 38,
     "metadata": {},
     "output_type": "execute_result"
    }
   ],
   "source": [
    "[lr_y, lr_x]"
   ]
  },
  {
   "cell_type": "markdown",
   "id": "f54ef8c8-8100-49c7-9567-a599cd5e53ec",
   "metadata": {},
   "source": [
    "##### Next, I Compute The Coordinates For The Bins Of Random Forest Model."
   ]
  },
  {
   "cell_type": "code",
   "execution_count": null,
   "id": "6e9c88b8-6962-44c8-ac4f-eb1bd8e993db",
   "metadata": {},
   "outputs": [],
   "source": []
  },
  {
   "cell_type": "code",
   "execution_count": 40,
   "id": "a58760fe-9de5-4a37-8de7-1f4f05be5c81",
   "metadata": {},
   "outputs": [],
   "source": [
    "rf_y, rf_x = calibration_curve(y_test, rf_prediction[:,1], n_bins=20)"
   ]
  },
  {
   "cell_type": "markdown",
   "id": "6a38ec39-6580-4c2c-81b1-eb7d9e4365e5",
   "metadata": {},
   "source": [
    "##### Now I can plot the two calibration curves."
   ]
  },
  {
   "cell_type": "code",
   "execution_count": null,
   "id": "8f35ba2b-eef0-4cbd-bc22-d9acb4e5019d",
   "metadata": {},
   "outputs": [],
   "source": []
  },
  {
   "cell_type": "code",
   "execution_count": 41,
   "id": "33d184cc-536c-41a2-bc1f-f0ec968362ee",
   "metadata": {},
   "outputs": [
    {
     "data": {
      "image/png": "[encoded data removed]",
      "text/plain": [
       "<Figure size 640x480 with 1 Axes>"
      ]
     },
     "metadata": {},
     "output_type": "display_data"
    }
   ],
   "source": [
    "%matplotlib inline\n",
    "import matplotlib.pyplot as plt\n",
    "import matplotlib.lines as mlines\n",
    "import matplotlib.transforms as mtransforms\n",
    "\n",
    "fig, ax = plt.subplots()\n",
    "# Only These Two Lines Are Calibration Curves\n",
    "plt.plot(lr_x,lr_y, marker='o', linewidth=1, label='lr')\n",
    "plt.plot(rf_x, rf_y, marker='o', linewidth=1, label='rf')\n",
    "\n",
    "# Reference Line, legends, And Axis Labels\n",
    "line = mlines.Line2D([0, 1], [0, 1], color='black')\n",
    "transform = ax.transAxes\n",
    "line.set_transform(transform)\n",
    "ax.add_line(line)\n",
    "fig.suptitle('Calibration plot for Telecom data')\n",
    "ax.set_xlabel('Predicted probability')\n",
    "ax.set_ylabel('True probability in each bin')\n",
    "plt.legend()\n",
    "plt.show() "
   ]
  },
  {
   "cell_type": "code",
   "execution_count": null,
   "id": "e6dcc138-1e51-415a-a4eb-1b6545ec35b2",
   "metadata": {},
   "outputs": [],
   "source": []
  },
  {
   "cell_type": "code",
   "execution_count": 42,
   "id": "d314fe33-9ae0-4cc7-91b8-38384f865b7d",
   "metadata": {},
   "outputs": [
    {
     "data": {
      "text/plain": [
       "array([388, 148, 111, 115,  88,  60,  56,  59,  49,  46,  45,  49,  47,\n",
       "        60,  43,  33,   8,   2,   0,   0,   0], dtype=int64)"
      ]
     },
     "execution_count": 42,
     "metadata": {},
     "output_type": "execute_result"
    }
   ],
   "source": [
    "def bin_total(y_true, y_prob, n_bins):\n",
    "    bins = np.linspace(0., 1. + 1e-8, n_bins + 1)\n",
    "\n",
    "    # In Sklearn.Calibration.Calibration_Curve,\n",
    "    # The Last Value In The Array Is Always 0.\n",
    "    binids = np.digitize(y_prob, bins) - 1\n",
    "\n",
    "    return np.bincount(binids, minlength=len(bins))\n",
    "\n",
    "bin_total(y_test, lr_prediction[:,1], n_bins=20)"
   ]
  },
  {
   "cell_type": "markdown",
   "id": "5afde644-3e56-4dce-b197-44c391627ac3",
   "metadata": {},
   "source": [
    "The Missing Bins Have Endpoint Values Of 75%, 85%, And 95%. I Want My Predictions To Avoid Those Empty Bins And Become Discriminative.\r\n",
    "\r\n",
    "Discrimination Is A Concept That Goes Side-by-side With Calibration In Classification Problems. Sometimes It Comes Before Calibration If The Goal In Building A Model Is To Make Automatic Decisions Rather Than Provide Statistical Estimates.\r\n",
    "\r\n",
    "Discrimination Is Often Checked With The Receiver Operating Characteristic Curves.\r\n",
    "\r\n",
    "### Cross-validation?\r\n",
    "If I Don’t Care About Discrimination And Only Want Good Calibration, Then Logistic Regression (Blue) Seems To Do Better Than Random Forest (Orange). Is That Really The Case? In Particular, If I Look Into The Number Of Points In The Bins For Random Forest. Closer To The Diagonal Line Indicates God Fit.\r\n"
   ]
  },
  {
   "cell_type": "code",
   "execution_count": null,
   "id": "29de58f6-eb1f-4334-9631-65dfbe95da49",
   "metadata": {},
   "outputs": [],
   "source": []
  },
  {
   "cell_type": "code",
   "execution_count": 43,
   "id": "24a30a17-4c8f-43d2-a548-d260f3610865",
   "metadata": {},
   "outputs": [
    {
     "data": {
      "text/plain": [
       "array([409, 143, 104,  95,  80,  74,  72,  54,  47,  45,  48,  41,  39,\n",
       "        29,  37,  22,  20,  15,  22,  11,   0], dtype=int64)"
      ]
     },
     "execution_count": 43,
     "metadata": {},
     "output_type": "execute_result"
    }
   ],
   "source": [
    "bin_total(y_test, rf_prediction[:,1], n_bins=20)"
   ]
  },
  {
   "cell_type": "markdown",
   "id": "e851b29a-9171-4ff9-8a24-14ccbdaa30dd",
   "metadata": {},
   "source": [
    "I Suspect That The Problem May Be That Some Bins Have Too Few Data Points. I Put 704 Points In 20 Bins, So Some Bins Will Only Get A Few, Therefore The Calibration Plot Suffers Because One Misclassification In A Tiny Bin Changes The Proportion Greatly.\n",
    "\n",
    "Only 20% Of My Data Was Used In The Previous Plot, So Maybe I Can Use More. To Make Use All Of My Data In Testing Calibration Among Different Models, I Thought I Can Steal The Idea From Cross-validation. If I Break My Data Up Into 5 Folds For Cross-validation, Then Each Fold Will Be Used As The Validation Set Once. Therefore, I Can Concatenate The Predicted Probabilities From All 5 Folds And Make A Calibration Plot From It. The Result Of A 5-fold Calibration Plot Is The Following Plot.\n",
    "\n",
    "### Cross-validated Version\n",
    "Cross Validation Ensures All Samples Will Appear In The Training And Test Sets, So 100% Of Your Data Gets Used At Some Point For Training And For Testing. Use 5-fold Cross-validation Instead, And Take The Average Of All Of My Data To Make The Calibration Plot."
   ]
  },
  {
   "cell_type": "code",
   "execution_count": null,
   "id": "4d7aae4b-dd0b-4316-b5a1-66fdd7a0e36e",
   "metadata": {},
   "outputs": [],
   "source": []
  },
  {
   "cell_type": "code",
   "execution_count": 44,
   "id": "351f541e-7a86-4887-b31e-3996b1483767",
   "metadata": {},
   "outputs": [
    {
     "data": {
      "text/plain": [
       "0.8038379530916845"
      ]
     },
     "execution_count": 44,
     "metadata": {},
     "output_type": "execute_result"
    }
   ],
   "source": [
    "from sklearn.linear_model import LogisticRegressionCV\n",
    "clf = LogisticRegressionCV(cv=5, random_state=1234, solver='lbfgs').fit(X_train, y_train)\n",
    "clf_prediction = clf.predict_proba(X_test)\n",
    "clf.score(X_test, y_test)"
   ]
  },
  {
   "cell_type": "code",
   "execution_count": null,
   "id": "8e0c1484-761f-43ed-9c4e-91d5099fccf2",
   "metadata": {},
   "outputs": [],
   "source": []
  },
  {
   "cell_type": "code",
   "execution_count": 45,
   "id": "e9eb40c2-cee3-4143-80e2-d6785f050dcd",
   "metadata": {},
   "outputs": [
    {
     "name": "stdout",
     "output_type": "stream",
     "text": [
      "0.8026666666666665\n"
     ]
    }
   ],
   "source": [
    "from sklearn.model_selection import cross_val_score\n",
    "accuracies = cross_val_score(estimator=clf, X=X_train, y=y_train, cv=5)\n",
    "print(accuracies.mean())"
   ]
  },
  {
   "cell_type": "code",
   "execution_count": null,
   "id": "d683ff0b-649d-40a8-b296-4f837fc55de8",
   "metadata": {},
   "outputs": [],
   "source": []
  },
  {
   "cell_type": "code",
   "execution_count": 46,
   "id": "4d208318-f9ca-4dfd-9bdf-1d400c775987",
   "metadata": {},
   "outputs": [
    {
     "name": "stdout",
     "output_type": "stream",
     "text": [
      "0.014530003016321786\n"
     ]
    }
   ],
   "source": [
    "print(accuracies.std())"
   ]
  },
  {
   "cell_type": "code",
   "execution_count": null,
   "id": "1513cd54-bffe-48ee-ab13-00ba36971b8a",
   "metadata": {},
   "outputs": [],
   "source": []
  },
  {
   "cell_type": "markdown",
   "id": "193b87c0-d3f7-42bf-98ce-745c5e18a4f7",
   "metadata": {},
   "source": [
    "The Result Is: 0.003 Which Is 0.3%. This Is Extremely Low, Which Means That Our Model Has A Very Low Variance, Which Is Actually Very Good Since That Means That The Prediction That We Obtained On One Test Set Is Not By Chance. Rather, The Model Will Perform More Or Less Similar On All Test Sets.\n",
    "\n",
    "By Default Random Forest Picks Up 2/3rd Data For Training And Rest For Testing For Regression And Almost 70% Data For Training And Rest For Testing During Classification.by Principle Since It Randomizes The Variable Selection During Each Tree Split It's Not Prone To Overfit Unlike Other Models."
   ]
  },
  {
   "cell_type": "code",
   "execution_count": null,
   "id": "420fc517-c29d-4a65-8075-0c44fa337f3e",
   "metadata": {},
   "outputs": [],
   "source": []
  },
  {
   "cell_type": "code",
   "execution_count": 47,
   "id": "cf076bd5-98bd-4d3a-bff6-3ae59ea657ca",
   "metadata": {},
   "outputs": [
    {
     "data": {
      "text/plain": [
       "0.7953091684434968"
      ]
     },
     "execution_count": 47,
     "metadata": {},
     "output_type": "execute_result"
    }
   ],
   "source": [
    "rlf = RandomForestClassifier(random_state=101, n_estimators=100).fit(X_train, y_train)\n",
    "rlf_prediction = rlf.predict_proba(X_test)\n",
    "rlf.score(X_test, y_test)"
   ]
  },
  {
   "cell_type": "code",
   "execution_count": null,
   "id": "eb9250d0-f50e-47d8-9c00-f24f0ec6eb77",
   "metadata": {},
   "outputs": [],
   "source": []
  },
  {
   "cell_type": "code",
   "execution_count": 48,
   "id": "63355a69-7fbe-452d-897d-26e4afcd89db",
   "metadata": {},
   "outputs": [],
   "source": [
    "from sklearn.model_selection import cross_val_score\n",
    "all_accuracies = cross_val_score(estimator=rlf, X=X_train, y=y_train, cv=5)"
   ]
  },
  {
   "cell_type": "code",
   "execution_count": null,
   "id": "3483b7f3-520d-4f2b-8249-1e88994e7282",
   "metadata": {},
   "outputs": [],
   "source": []
  },
  {
   "cell_type": "code",
   "execution_count": 49,
   "id": "b8e3b03f-fb10-43bf-a930-1dc22d008b02",
   "metadata": {},
   "outputs": [
    {
     "name": "stdout",
     "output_type": "stream",
     "text": [
      "0.7806222222222223\n"
     ]
    }
   ],
   "source": [
    "print(all_accuracies.mean())"
   ]
  },
  {
   "cell_type": "code",
   "execution_count": null,
   "id": "357bb012-8d3a-4ccd-b747-5329a7fa4fda",
   "metadata": {},
   "outputs": [],
   "source": []
  },
  {
   "cell_type": "code",
   "execution_count": 51,
   "id": "0826ce77-76f2-4709-b93f-88e8d67f353c",
   "metadata": {},
   "outputs": [
    {
     "name": "stdout",
     "output_type": "stream",
     "text": [
      "0.007858501726329037\n"
     ]
    }
   ],
   "source": [
    "print(all_accuracies.std())"
   ]
  },
  {
   "cell_type": "markdown",
   "id": "138c3974-dcda-42aa-bca9-58524c07ccec",
   "metadata": {},
   "source": [
    "##### The Result Is: 0.004 Which Is 0.4%. This Is Extremely Low, Which Means That Our Model Has A Very Low Variance, Which Is Actually Very Good Since That Means That The Prediction That We Obtained On One Test Set Is Not By Chance. Rather, The Model Will Perform More Or Less Similar On All Test Sets."
   ]
  },
  {
   "cell_type": "code",
   "execution_count": null,
   "id": "789b117d-d864-48cf-b1d7-67f3a9b34f43",
   "metadata": {},
   "outputs": [],
   "source": []
  },
  {
   "cell_type": "code",
   "execution_count": 52,
   "id": "ead69406-f594-468a-93d6-1cfa4ce5518e",
   "metadata": {},
   "outputs": [],
   "source": [
    "clf_y, clf_x = calibration_curve(y_test, clf_prediction[:,1], n_bins=20)\n",
    "rlf_y, rlf_x = calibration_curve(y_test, rlf_prediction[:,1], n_bins=20)"
   ]
  },
  {
   "cell_type": "code",
   "execution_count": null,
   "id": "6986f6d1-a2a0-4ebb-8265-6e93ce16701c",
   "metadata": {},
   "outputs": [],
   "source": []
  },
  {
   "cell_type": "code",
   "execution_count": 53,
   "id": "897abaf8-5792-4f20-9ab1-3529fe089a57",
   "metadata": {},
   "outputs": [
    {
     "data": {
      "image/png": "[encoded data removed]",
      "text/plain": [
       "<Figure size 640x480 with 1 Axes>"
      ]
     },
     "metadata": {},
     "output_type": "display_data"
    }
   ],
   "source": [
    "fig, ax = plt.subplots()\n",
    "# Only These Two Lines Are Calibration Curves\n",
    "plt.plot(clf_x,clf_y, marker='o', linewidth=1, label='lr')\n",
    "plt.plot(rlf_x, rlf_y, marker='o', linewidth=1, label='rf')\n",
    "\n",
    "# Reference Line, Legends, And Axis Labels\n",
    "line = mlines.Line2D([0, 1], [0, 1], color='black')\n",
    "transform = ax.transAxes\n",
    "line.set_transform(transform)\n",
    "ax.add_line(line)\n",
    "fig.suptitle('Calibration plot for Telecom data')\n",
    "ax.set_xlabel('Predicted probability')\n",
    "ax.set_ylabel('True probability in each bin')\n",
    "plt.legend()\n",
    "plt.show()"
   ]
  },
  {
   "cell_type": "code",
   "execution_count": null,
   "id": "a396f827-3f9c-434f-aba8-03f48288cc42",
   "metadata": {},
   "outputs": [],
   "source": []
  },
  {
   "cell_type": "code",
   "execution_count": 54,
   "id": "469fc840-9382-4626-8402-ef580cf812e5",
   "metadata": {},
   "outputs": [
    {
     "data": {
      "text/plain": [
       "array([380, 150, 116, 112,  92,  61,  53,  57,  53,  51,  41,  50,  52,\n",
       "        56,  45,  29,   8,   1,   0,   0,   0], dtype=int64)"
      ]
     },
     "execution_count": 54,
     "metadata": {},
     "output_type": "execute_result"
    }
   ],
   "source": [
    "bin_total(y_test, clf_prediction[:,1], n_bins=20)"
   ]
  },
  {
   "cell_type": "code",
   "execution_count": null,
   "id": "c9f7a09d-53c1-4689-8a4e-2c2837caa452",
   "metadata": {},
   "outputs": [],
   "source": []
  },
  {
   "cell_type": "code",
   "execution_count": 55,
   "id": "3f4c1a66-f30c-44c1-b672-3d9ba0708ca7",
   "metadata": {},
   "outputs": [
    {
     "data": {
      "text/plain": [
       "array([409, 143, 104,  95,  80,  74,  72,  54,  47,  45,  48,  41,  39,\n",
       "        29,  37,  22,  20,  15,  22,  11,   0], dtype=int64)"
      ]
     },
     "execution_count": 55,
     "metadata": {},
     "output_type": "execute_result"
    }
   ],
   "source": [
    "bin_total(y_test, rlf_prediction[:,1], n_bins=20)"
   ]
  },
  {
   "cell_type": "markdown",
   "id": "341be579-2622-4b03-bcf8-bcf57d6d7823",
   "metadata": {},
   "source": [
    "##### And I Think It’s Safe To Say That, In This Example, The Random Forest Is Better Calibrated Than Logistic Regression."
   ]
  },
  {
   "cell_type": "code",
   "execution_count": null,
   "id": "a1a0693f-9d37-4d48-b55a-4841424de060",
   "metadata": {},
   "outputs": [],
   "source": []
  }
 ],
 "metadata": {
  "kernelspec": {
   "display_name": "Python 3 (ipykernel)",
   "language": "python",
   "name": "python3"
  },
  "language_info": {
   "codemirror_mode": {
    "name": "ipython",
    "version": 3
   },
   "file_extension": ".py",
   "mimetype": "text/x-python",
   "name": "python",
   "nbconvert_exporter": "python",
   "pygments_lexer": "ipython3",
   "version": "3.11.7"
  }
 },
 "nbformat": 4,
 "nbformat_minor": 5
}
